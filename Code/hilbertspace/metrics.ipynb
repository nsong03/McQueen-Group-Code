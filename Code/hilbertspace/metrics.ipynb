{
 "cells": [
  {
   "cell_type": "code",
   "execution_count": 15,
   "metadata": {},
   "outputs": [],
   "source": [
    "import pymatgen\n",
    "import numpy as np\n",
    "import pandas as pd\n",
    "import chemparse\n",
    "from scipy.spatial import ConvexHull\n",
    "import math \n",
    "import random\n",
    "import ast\n"
   ]
  },
  {
   "cell_type": "code",
   "execution_count": 26,
   "metadata": {},
   "outputs": [],
   "source": [
    "pd.options.display.max_colwidth = 10000\n",
    "\n",
    "netarray = pd.read_csv('netarray727.csv', header=None)\n",
    "fulldset = pd.read_csv('fulldataset.csv')\n",
    "oxidemelt =  pd.read_csv('oxides_data_meltpoint.csv').iloc[:,1:]\n",
    "oxide_melt = np.array(oxidemelt.drop_duplicates(subset='chemical_formula', keep='first'))\n"
   ]
  },
  {
   "cell_type": "code",
   "execution_count": 74,
   "metadata": {},
   "outputs": [
    {
     "name": "stderr",
     "output_type": "stream",
     "text": [
      "C:\\Users\\songo\\AppData\\Local\\Temp\\ipykernel_16848\\2551494189.py:12: VisibleDeprecationWarning: Creating an ndarray from ragged nested sequences (which is a list-or-tuple of lists-or-tuples-or ndarrays with different lengths or shapes) is deprecated. If you meant to do this, you must specify 'dtype=object' when creating the ndarray.\n",
      "  oxidenames = np.array(temp)\n"
     ]
    }
   ],
   "source": [
    "oxideenergy = netarray[0]\n",
    "initialmass = netarray[1]\n",
    "finalmass = netarray[2]\n",
    "oxideweights = netarray[3]\n",
    "elements = netarray[4]\n",
    "matrixcomp = netarray[5]\n",
    "oxidenames = netarray[6]\n"
   ]
  },
  {
   "cell_type": "code",
   "execution_count": 318,
   "metadata": {},
   "outputs": [
    {
     "name": "stderr",
     "output_type": "stream",
     "text": [
      "C:\\Users\\songo\\AppData\\Local\\Temp\\ipykernel_16848\\1421179352.py:5: VisibleDeprecationWarning: Creating an ndarray from ragged nested sequences (which is a list-or-tuple of lists-or-tuples-or ndarrays with different lengths or shapes) is deprecated. If you meant to do this, you must specify 'dtype=object' when creating the ndarray.\n",
      "  oxidenames = np.array(temp)\n"
     ]
    }
   ],
   "source": [
    "temp = []\n",
    "for name in oxidenames:\n",
    "    replaced = np.array(ast.literal_eval((name.replace(' ',','))))\n",
    "    temp.append(replaced)\n",
    "oxidenames = np.array(temp)\n",
    "\n",
    "material_melt = fulldset['Oxide Melt Temp']"
   ]
  },
  {
   "cell_type": "code",
   "execution_count": 81,
   "metadata": {},
   "outputs": [],
   "source": [
    "temp = []\n",
    "for id in range(len(oxideenergy)):\n",
    "    foundindices = np.where(np.isin(oxide_melt[:,0], oxidenames[id]))\n",
    "    melttemps = np.array(oxide_melt[foundindices])\n",
    "    percents = oxideweights[id]\n",
    "    temp.append([oxidenames[id], percents, melttemps])\n",
    "    "
   ]
  },
  {
   "cell_type": "code",
   "execution_count": 103,
   "metadata": {},
   "outputs": [],
   "source": [
    "periodictable = np.array(pd.read_csv('PeriodicTableCleaned_data.csv'))\n",
    "temp = np.array(temp)"
   ]
  },
  {
   "cell_type": "code",
   "execution_count": 89,
   "metadata": {},
   "outputs": [],
   "source": [
    "melt_names = temp[:,0]\n",
    "melt_amounts = temp[:,1]\n",
    "melt_heats = temp[:,2]"
   ]
  },
  {
   "cell_type": "code",
   "execution_count": null,
   "metadata": {},
   "outputs": [],
   "source": [
    "melt_names"
   ]
  },
  {
   "cell_type": "code",
   "execution_count": 135,
   "metadata": {},
   "outputs": [],
   "source": [
    "netmass = []\n",
    "names = np.array(fulldset['Superconductor'])\n",
    "\n",
    "for materialname in np.array(fulldset['Superconductor']):\n",
    "    keys = np.asarray(list(chemparse.parse_formula(materialname).keys()))\n",
    "    values = np.asarray(list(chemparse.parse_formula(materialname).values()))\n",
    "    # mass_indices = np.argwhere(np.isin(periodictable[:,0], keys))\n",
    "    masses = []\n",
    "    for i in keys:\n",
    "        masses.append(periodictable[:,7][np.argwhere(periodictable[:,0]==i)])\n",
    "    masses = np.array(masses)\n",
    "    netmass_entry = np.dot(masses.T, values)\n",
    "    netmass.append(netmass_entry)\n",
    "\n",
    "    "
   ]
  },
  {
   "cell_type": "code",
   "execution_count": 137,
   "metadata": {},
   "outputs": [],
   "source": [
    "netmass = np.array(netmass)\n",
    "\n",
    "test = []\n",
    "for id in melt_amounts:\n",
    "    test.append(np.array(ast.literal_eval((((((id.replace('\\n', '')).replace('  ',',')).replace(' -',',-')).replace(' ', ',')).replace('[,','[')).replace(',,',',').replace(',,',',').replace(',,',',').replace(',,',','))))"
   ]
  },
  {
   "cell_type": "code",
   "execution_count": 153,
   "metadata": {},
   "outputs": [
    {
     "name": "stderr",
     "output_type": "stream",
     "text": [
      "C:\\Users\\songo\\AppData\\Local\\Temp\\ipykernel_16848\\759685881.py:1: VisibleDeprecationWarning: Creating an ndarray from ragged nested sequences (which is a list-or-tuple of lists-or-tuples-or ndarrays with different lengths or shapes) is deprecated. If you meant to do this, you must specify 'dtype=object' when creating the ndarray.\n",
      "  melt_amounts = np.array(test)\n"
     ]
    }
   ],
   "source": [
    "melt_amounts = np.array(test)"
   ]
  },
  {
   "cell_type": "code",
   "execution_count": 293,
   "metadata": {},
   "outputs": [],
   "source": [
    "test2 = []\n",
    "for id in range(len(matrixcomp)):\n",
    "    test2.append(np.array(ast.literal_eval((((((matrixcomp[id].replace('\\n', '')).replace('  ',',')).replace(' -',',-')).replace(' ', ',')).replace('[,','[')).replace(',,',',').replace(',,',',').replace(',,',',').replace(',,',','))))\n"
   ]
  },
  {
   "cell_type": "code",
   "execution_count": 305,
   "metadata": {},
   "outputs": [
    {
     "name": "stderr",
     "output_type": "stream",
     "text": [
      "C:\\Users\\songo\\AppData\\Local\\Temp\\ipykernel_16848\\1148871628.py:1: VisibleDeprecationWarning: Creating an ndarray from ragged nested sequences (which is a list-or-tuple of lists-or-tuples-or ndarrays with different lengths or shapes) is deprecated. If you meant to do this, you must specify 'dtype=object' when creating the ndarray.\n",
      "  matrixcomp = np.array(test2)\n"
     ]
    }
   ],
   "source": [
    "matrixcomp = np.array(test2)"
   ]
  },
  {
   "cell_type": "code",
   "execution_count": 301,
   "metadata": {},
   "outputs": [],
   "source": [
    "test3 = []\n",
    "for id in range(len(oxideweights)):\n",
    "    test3.append(np.array(ast.literal_eval((((((oxideweights[id].replace('\\n', '')).replace('  ',',')).replace(' -',',-')).replace(' ', ',')).replace('[,','[')).replace(',,',',').replace(',,',',').replace(',,',',').replace(',,',','))))\n"
   ]
  },
  {
   "cell_type": "code",
   "execution_count": 302,
   "metadata": {},
   "outputs": [
    {
     "name": "stderr",
     "output_type": "stream",
     "text": [
      "C:\\Users\\songo\\AppData\\Local\\Temp\\ipykernel_16848\\3145140095.py:1: VisibleDeprecationWarning: Creating an ndarray from ragged nested sequences (which is a list-or-tuple of lists-or-tuples-or ndarrays with different lengths or shapes) is deprecated. If you meant to do this, you must specify 'dtype=object' when creating the ndarray.\n",
      "  oxideweights = np.array(test3)\n"
     ]
    }
   ],
   "source": [
    "oxideweights = np.array(test3)"
   ]
  },
  {
   "cell_type": "code",
   "execution_count": 308,
   "metadata": {},
   "outputs": [],
   "source": [
    "finalmass = [np.dot(matrixcomp[id].T, oxideweights[id]) for id in range(len(oxideweights))]"
   ]
  },
  {
   "cell_type": "code",
   "execution_count": 327,
   "metadata": {},
   "outputs": [
    {
     "name": "stderr",
     "output_type": "stream",
     "text": [
      "C:\\Users\\songo\\AppData\\Local\\Temp\\ipykernel_16848\\2645317297.py:12: VisibleDeprecationWarning: Creating an ndarray from ragged nested sequences (which is a list-or-tuple of lists-or-tuples-or ndarrays with different lengths or shapes) is deprecated. If you meant to do this, you must specify 'dtype=object' when creating the ndarray.\n",
      "  meltingtemperatures = np.array(meltingtemperatures)\n"
     ]
    }
   ],
   "source": [
    "meltingtemperatures = []\n",
    "for id in range(len(oxidenames)):\n",
    "    meltlist = []\n",
    "    oxidelist = oxidenames[id]\n",
    "    heatsnames = melt_heats[id][:,0]\n",
    "    heatstemps = melt_heats[id][:,1]\n",
    "    for oxide in oxidelist:\n",
    "        index = np.where(heatsnames == oxide)\n",
    "        meltlist.append(heatstemps[index])\n",
    "    meltlist = np.array(meltlist)\n",
    "    meltingtemperatures.append(meltlist)\n",
    "meltingtemperatures = np.array(meltingtemperatures)"
   ]
  },
  {
   "cell_type": "code",
   "execution_count": 346,
   "metadata": {},
   "outputs": [
    {
     "name": "stderr",
     "output_type": "stream",
     "text": [
      "C:\\Users\\songo\\AppData\\Local\\Temp\\ipykernel_16848\\3212173579.py:4: VisibleDeprecationWarning: Creating an ndarray from ragged nested sequences (which is a list-or-tuple of lists-or-tuples-or ndarrays with different lengths or shapes) is deprecated. If you meant to do this, you must specify 'dtype=object' when creating the ndarray.\n",
      "  elements = np.array(test)\n"
     ]
    }
   ],
   "source": [
    "temp4 = []\n",
    "for id in elements:\n",
    "    temp4.append(ast.literal_eval(id))"
   ]
  },
  {
   "cell_type": "code",
   "execution_count": 352,
   "metadata": {},
   "outputs": [
    {
     "name": "stderr",
     "output_type": "stream",
     "text": [
      "C:\\Users\\songo\\AppData\\Local\\Temp\\ipykernel_16848\\2635957228.py:1: VisibleDeprecationWarning: Creating an ndarray from ragged nested sequences (which is a list-or-tuple of lists-or-tuples-or ndarrays with different lengths or shapes) is deprecated. If you meant to do this, you must specify 'dtype=object' when creating the ndarray.\n",
      "  elements = np.array(temp4)\n"
     ]
    }
   ],
   "source": [
    "elements = np.array(temp4)"
   ]
  },
  {
   "cell_type": "code",
   "execution_count": 358,
   "metadata": {},
   "outputs": [
    {
     "data": {
      "text/plain": [
       "['Sb', 'S', 'F', 'O']"
      ]
     },
     "execution_count": 358,
     "metadata": {},
     "output_type": "execute_result"
    }
   ],
   "source": [
    "elements[2]"
   ]
  },
  {
   "cell_type": "code",
   "execution_count": 359,
   "metadata": {},
   "outputs": [
    {
     "name": "stderr",
     "output_type": "stream",
     "text": [
      "C:\\Users\\songo\\AppData\\Local\\Temp\\ipykernel_16848\\3074387746.py:8: VisibleDeprecationWarning: Creating an ndarray from ragged nested sequences (which is a list-or-tuple of lists-or-tuples-or ndarrays with different lengths or shapes) is deprecated. If you meant to do this, you must specify 'dtype=object' when creating the ndarray.\n",
      "  elementmasses = np.array(elementmasses)\n"
     ]
    }
   ],
   "source": [
    "elementmasses = []\n",
    "for lists in elements:\n",
    "    tempmasses = []\n",
    "    for elementid in range(len(lists)-1):\n",
    "        tempmasses.append(periodictable[:,7][np.where(periodictable[:,0]==lists[elementid])])\n",
    "    tempmasses = np.array(tempmasses)\n",
    "    elementmasses.append(tempmasses)\n",
    "elementmasses = np.array(elementmasses)"
   ]
  },
  {
   "cell_type": "code",
   "execution_count": 403,
   "metadata": {},
   "outputs": [
    {
     "data": {
      "text/plain": [
       "array([array([[6.94],\n",
       "              [40.0784],\n",
       "              [207.21]], dtype=object), array([[55.8452],\n",
       "                                               [10.81]], dtype=object),\n",
       "       array([[121.7601],\n",
       "              [32.06],\n",
       "              [18.99840316]], dtype=object), ...,\n",
       "       array([[92.906372],\n",
       "              [106.421]], dtype=object), array([[92.906372],\n",
       "                                                [106.421]], dtype=object),\n",
       "       array([[55.8452],\n",
       "              [78.9718],\n",
       "              [127.603]], dtype=object)], dtype=object)"
      ]
     },
     "execution_count": 403,
     "metadata": {},
     "output_type": "execute_result"
    }
   ],
   "source": [
    "elementmasses"
   ]
  },
  {
   "cell_type": "code",
   "execution_count": 407,
   "metadata": {},
   "outputs": [
    {
     "name": "stderr",
     "output_type": "stream",
     "text": [
      "C:\\Users\\songo\\AppData\\Local\\Temp\\ipykernel_16848\\2310499121.py:14: VisibleDeprecationWarning: Creating an ndarray from ragged nested sequences (which is a list-or-tuple of lists-or-tuples-or ndarrays with different lengths or shapes) is deprecated. If you meant to do this, you must specify 'dtype=object' when creating the ndarray.\n",
      "  oxidemasses = np.array(oxidemasses)\n"
     ]
    }
   ],
   "source": [
    "oxidemasses = []\n",
    "for id in range(len(material_melt)):\n",
    "    material_meltingtemp = material_melt[id]\n",
    "    names = oxidenames[id]\n",
    "    matrixs = matrixcomp[id]\n",
    "    weights = oxideweights[id]\n",
    "    meltingtemps = meltingtemperatures[id]\n",
    "    tempweights = weights*0\n",
    "    for oxideid in range(len(weights)):\n",
    "        if float(meltingtemps[oxideid]) < float(material_meltingtemp):\n",
    "            tempweights[oxideid] += weights[oxideid]\n",
    "    tempmass = np.dot(matrixs.T, tempweights)\n",
    "    oxidemasses.append(tempmass)\n",
    "oxidemasses = np.array(oxidemasses)"
   ]
  },
  {
   "cell_type": "code",
   "execution_count": 427,
   "metadata": {},
   "outputs": [
    {
     "name": "stderr",
     "output_type": "stream",
     "text": [
      "C:\\Users\\songo\\AppData\\Local\\Temp\\ipykernel_16848\\2154905089.py:1: VisibleDeprecationWarning: Creating an ndarray from ragged nested sequences (which is a list-or-tuple of lists-or-tuples-or ndarrays with different lengths or shapes) is deprecated. If you meant to do this, you must specify 'dtype=object' when creating the ndarray.\n",
      "  resid = finalmass-oxidemasses\n"
     ]
    }
   ],
   "source": [
    "resid = finalmass-oxidemasses"
   ]
  },
  {
   "cell_type": "code",
   "execution_count": 431,
   "metadata": {},
   "outputs": [
    {
     "data": {
      "text/plain": [
       "array([1.00000008, 1.00000002, 1.00000011, 6.00000018])"
      ]
     },
     "execution_count": 431,
     "metadata": {},
     "output_type": "execute_result"
    }
   ],
   "source": [
    "finalmass[7]"
   ]
  },
  {
   "cell_type": "code",
   "execution_count": 433,
   "metadata": {},
   "outputs": [
    {
     "data": {
      "text/plain": [
       "array([ 0.05181403,  0.16116333,  0.04557991,  0.08492571,  0.0393458 ,\n",
       "       -0.00623412, -0.06428226,  0.10362806, -0.12294197, -0.05804814,\n",
       "        0.05181403, -0.00684568,  0.08186787, -0.08707222,  0.04435678,\n",
       "        0.07399242, -0.02902407, -0.11609629, -0.02902407,  0.04435678,\n",
       "        0.08186787, -0.02902407,  0.02217839,  0.05181403,  0.0283029 ,\n",
       "        0.02217839,  0.02217839, -0.00684568,  0.04245435, -0.02902407,\n",
       "        0.01415145,  0.        ])"
      ]
     },
     "execution_count": 433,
     "metadata": {},
     "output_type": "execute_result"
    }
   ],
   "source": [
    "oxideweights[7]"
   ]
  },
  {
   "cell_type": "code",
   "execution_count": 409,
   "metadata": {},
   "outputs": [
    {
     "name": "stderr",
     "output_type": "stream",
     "text": [
      "C:\\Users\\songo\\AppData\\Local\\Temp\\ipykernel_16848\\2580632224.py:26: VisibleDeprecationWarning: Creating an ndarray from ragged nested sequences (which is a list-or-tuple of lists-or-tuples-or ndarrays with different lengths or shapes) is deprecated. If you meant to do this, you must specify 'dtype=object' when creating the ndarray.\n",
      "  percentages = np.array(percentages)\n",
      "C:\\Users\\songo\\AppData\\Local\\Temp\\ipykernel_16848\\2580632224.py:27: VisibleDeprecationWarning: Creating an ndarray from ragged nested sequences (which is a list-or-tuple of lists-or-tuples-or ndarrays with different lengths or shapes) is deprecated. If you meant to do this, you must specify 'dtype=object' when creating the ndarray.\n",
      "  percentages_test = np.array(percentages_test)\n"
     ]
    }
   ],
   "source": [
    "percentages = []\n",
    "percentages_test = []\n",
    "finalmasses_AU = []\n",
    "oxidemasses_AU = []\n",
    "for id in range(len(oxidemasses)):\n",
    "    totalmass = finalmass[id]\n",
    "    oxidemass = oxidemasses[id]\n",
    "    testmass = totalmass - oxidemass\n",
    "    elementmass = elementmasses[id]\n",
    "    totalmass_AU = 0\n",
    "    oxidemass_AU = 0\n",
    "    testmass_AU = 0\n",
    "    for i in range(len(totalmass)):\n",
    "        totalmass_AU += elementmass[i] * totalmass[i]\n",
    "        oxidemass_AU += elementmass[i] * oxidemass[i]\n",
    "        testmass_AU += testmass[i] * elementmass[i]\n",
    "    testtestmass_AU = totalmass_AU - testmass_AU\n",
    "    finalmasses_AU.append(totalmass_AU)\n",
    "    oxidemasses_AU.append(oxidemass_AU)\n",
    "    if totalmass_AU == 0:\n",
    "        percentages.append(0)\n",
    "        percentages_test.append(0)\n",
    "    else:\n",
    "        percentages.append(oxidemass_AU / totalmass_AU)\n",
    "        percentages_test.append(testtestmass_AU / totalmass_AU)\n",
    "percentages = np.array(percentages)\n",
    "percentages_test = np.array(percentages_test)\n",
    "finalmasses_AU = np.array(finalmasses_AU)\n",
    "oxidemasses_AU = np.array(oxidemasses_AU)"
   ]
  },
  {
   "cell_type": "code",
   "execution_count": 417,
   "metadata": {},
   "outputs": [],
   "source": [
    "np.savetxt('oxidemelted_percentages.csv', percentages, delimiter=',')\n",
    "np.savetxt('oxidemelted_finalmasses.csv', finalmasses_AU, delimiter=',')\n",
    "np.savetxt('oxidemelted_oxidemasses.csv', oxidemasses_AU, delimiter=',')\n"
   ]
  },
  {
   "cell_type": "code",
   "execution_count": 420,
   "metadata": {},
   "outputs": [],
   "source": [
    "percent = np.loadtxt('oxidemelted_percentages.csv')"
   ]
  },
  {
   "cell_type": "code",
   "execution_count": 422,
   "metadata": {},
   "outputs": [
    {
     "data": {
      "text/plain": [
       "array([array([0.7252634133167576], dtype=object),\n",
       "       array([0.0], dtype=object), array([1.0], dtype=object),\n",
       "       array([0.547817638836617], dtype=object),\n",
       "       array([0.6294424231407163], dtype=object),\n",
       "       array([0.2140743884395292], dtype=object),\n",
       "       array([0.001456792772122397], dtype=object),\n",
       "       array([1.0696325157171447], dtype=object),\n",
       "       array([0.2169655596972843], dtype=object),\n",
       "       array([0.4485118520833329], dtype=object),\n",
       "       array([0.21363142479762331], dtype=object),\n",
       "       array([0.863261200296546], dtype=object),\n",
       "       array([3.7284513727124945e-08], dtype=object),\n",
       "       array([0.981964824861955], dtype=object),\n",
       "       array([1.1591764549803754], dtype=object),\n",
       "       array([1.5706775976049712], dtype=object),\n",
       "       array([1.204504231912251], dtype=object),\n",
       "       array([0.2586119344400126], dtype=object),\n",
       "       array([1.0], dtype=object),\n",
       "       array([0.02493946155073444], dtype=object)], dtype=object)"
      ]
     },
     "execution_count": 422,
     "metadata": {},
     "output_type": "execute_result"
    }
   ],
   "source": [
    "percentages[0:20]"
   ]
  },
  {
   "cell_type": "code",
   "execution_count": 423,
   "metadata": {},
   "outputs": [
    {
     "data": {
      "text/plain": [
       "array([7.25263413e-01, 0.00000000e+00, 1.00000000e+00, 5.47817639e-01,\n",
       "       6.29442423e-01, 2.14074388e-01, 1.45679277e-03, 1.06963252e+00,\n",
       "       2.16965560e-01, 4.48511852e-01, 2.13631425e-01, 8.63261200e-01,\n",
       "       3.72845137e-08, 9.81964825e-01, 1.15917645e+00, 1.57067760e+00,\n",
       "       1.20450423e+00, 2.58611934e-01, 1.00000000e+00, 2.49394616e-02])"
      ]
     },
     "execution_count": 423,
     "metadata": {},
     "output_type": "execute_result"
    }
   ],
   "source": [
    "percent[0:20]"
   ]
  },
  {
   "cell_type": "code",
   "execution_count": 261,
   "metadata": {},
   "outputs": [
    {
     "name": "stderr",
     "output_type": "stream",
     "text": [
      "C:\\Users\\songo\\AppData\\Local\\Temp\\ipykernel_16848\\3703799358.py:24: DeprecationWarning: `np.float` is a deprecated alias for the builtin `float`. To silence this warning, use `float` by itself. Doing this will not modify any behavior and is safe. If you specifically wanted the numpy scalar type, use `np.float64` here.\n",
      "Deprecated in NumPy 1.20; for more details and guidance: https://numpy.org/devdocs/release/1.20.0-notes.html#deprecations\n",
      "  if np.float(material_meltingtemp) > np.float(oxide_meltingtemp):\n"
     ]
    }
   ],
   "source": [
    "meltingmass = []\n",
    "for id in range(1000):\n",
    "    material_meltingtemp = material_melt[id]    \n",
    "    # meltingnames = np.array(ast.literal_eval(((melt_names[id].replace('\\n', '')).replace(' ',','))))\n",
    "    # meltingamounts = np.array(ast.literal_eval((((((melt_amounts[id].replace('\\n', '')).replace('  ',',')).replace(' -',',-')).replace(' ', ',')).replace('[,','[')).replace(',,',',')))\n",
    "    # meltingheats = np.array(ast.literal_eval(((melt_heats[id].replace('\\n', '')).replace(' ',','))))\n",
    "    meltingnames = melt_names[id]\n",
    "    meltingamounts = melt_amounts[id]\n",
    "    meltingheats = melt_heats[id]\n",
    "    meltingheats_names = meltingheats[:,0]\n",
    "    amountmelted = 0\n",
    "    \n",
    "    for subid in range(len(meltingnames)):\n",
    "        oxidename = meltingnames[subid]\n",
    "        oxideamount = meltingamounts[subid]\n",
    "        oxide_meltingtemp = meltingheats[np.where(meltingheats_names == oxidename)][0][1]\n",
    "        keys = np.asarray(list(chemparse.parse_formula(oxidename).keys()))\n",
    "        values = np.asarray(list(chemparse.parse_formula(oxidename).values()))\n",
    "        masses = []\n",
    "        for i in keys:\n",
    "            masses.append(periodictable[:,7][np.argwhere(periodictable[:,0]==i)])\n",
    "        masses = np.array(masses)\n",
    "        oxidemass = np.dot(masses.T, values) * oxideamount\n",
    "        if np.float(material_meltingtemp) > np.float(oxide_meltingtemp):\n",
    "            amountmelted += oxidemass\n",
    "    \n",
    "   \n",
    "    meltingmass.append(amountmelted)\n",
    "\n"
   ]
  },
  {
   "cell_type": "code",
   "execution_count": 262,
   "metadata": {},
   "outputs": [
    {
     "name": "stderr",
     "output_type": "stream",
     "text": [
      "C:\\Users\\songo\\AppData\\Local\\Temp\\ipykernel_16848\\1943670075.py:1: VisibleDeprecationWarning: Creating an ndarray from ragged nested sequences (which is a list-or-tuple of lists-or-tuples-or ndarrays with different lengths or shapes) is deprecated. If you meant to do this, you must specify 'dtype=object' when creating the ndarray.\n",
      "  meltingmass = np.array(meltingmass)\n"
     ]
    }
   ],
   "source": [
    "meltingmass = np.array(meltingmass)\n",
    "netmass = np.array(netmass)"
   ]
  },
  {
   "cell_type": "code",
   "execution_count": 263,
   "metadata": {},
   "outputs": [],
   "source": [
    "percentmelted = []\n",
    "for id in range(len(meltingmass)):\n",
    "    percentmelted.append(meltingmass[id]/netmass[id])\n"
   ]
  },
  {
   "cell_type": "code",
   "execution_count": 264,
   "metadata": {},
   "outputs": [],
   "source": [
    "percentmelted = np.array(percentmelted)"
   ]
  },
  {
   "cell_type": "code",
   "execution_count": 265,
   "metadata": {},
   "outputs": [
    {
     "data": {
      "text/plain": [
       "3.3281563078334235"
      ]
     },
     "execution_count": 265,
     "metadata": {},
     "output_type": "execute_result"
    }
   ],
   "source": [
    "np.max(percentmelted)"
   ]
  },
  {
   "cell_type": "code",
   "execution_count": 268,
   "metadata": {},
   "outputs": [
    {
     "data": {
      "text/plain": [
       "230"
      ]
     },
     "execution_count": 268,
     "metadata": {},
     "output_type": "execute_result"
    }
   ],
   "source": [
    "len(np.where(percentmelted[:,0][:,0] > 1)[0])"
   ]
  },
  {
   "cell_type": "code",
   "execution_count": 267,
   "metadata": {},
   "outputs": [
    {
     "data": {
      "text/plain": [
       "array([0.972598802111982, 0.0010978015183133304, 1.0452173730388763,\n",
       "       0.876888166592377, 0.8648347542008691, 0.3312656965127197,\n",
       "       0.003474072295642506, 1.12176823289425, 0.21698544853072807,\n",
       "       0.4485378364958925, 0.21348624102429592, 0.862713538973544,\n",
       "       3.7284173522795376e-08, 1.4504889156167557, 1.3193390143154284,\n",
       "       1.6760354282911636, 1.2044388520430567, 0.2586151282525346,\n",
       "       1.3051333135730487, 0.024941228715051982], dtype=object)"
      ]
     },
     "execution_count": 267,
     "metadata": {},
     "output_type": "execute_result"
    }
   ],
   "source": [
    "percentmelted[:,0][:,0][0:20]"
   ]
  },
  {
   "cell_type": "code",
   "execution_count": null,
   "metadata": {},
   "outputs": [],
   "source": []
  },
  {
   "cell_type": "code",
   "execution_count": null,
   "metadata": {},
   "outputs": [],
   "source": []
  },
  {
   "cell_type": "code",
   "execution_count": null,
   "metadata": {},
   "outputs": [],
   "source": []
  }
 ],
 "metadata": {
  "kernelspec": {
   "display_name": "Python 3",
   "language": "python",
   "name": "python3"
  },
  "language_info": {
   "codemirror_mode": {
    "name": "ipython",
    "version": 3
   },
   "file_extension": ".py",
   "mimetype": "text/x-python",
   "name": "python",
   "nbconvert_exporter": "python",
   "pygments_lexer": "ipython3",
   "version": "3.11.1"
  },
  "orig_nbformat": 4
 },
 "nbformat": 4,
 "nbformat_minor": 2
}
