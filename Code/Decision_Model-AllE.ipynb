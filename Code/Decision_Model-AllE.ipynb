{
 "cells": [
  {
   "cell_type": "code",
   "execution_count": 1,
   "id": "6173ffe3",
   "metadata": {},
   "outputs": [],
   "source": [
    "import numpy as np\n",
    "import pandas as pd\n",
    "from sklearn.tree import DecisionTreeRegressor\n",
    "from sklearn.ensemble import RandomForestRegressor\n",
    "from sklearn.model_selection import train_test_split\n",
    "from sklearn.metrics import mean_squared_error, r2_score\n",
    "from sklearn.preprocessing import LabelEncoder\n",
    "import xgboost as xgb\n",
    "\n",
    "\n",
    "# This model takes the elements and coefficients of all the MP materials.\n",
    "\n",
    "def calculate_accuracies(model):\n",
    "    # Read the dataset\n",
    "    dataset = pd.read_csv(r\"C:\\Users\\jayso\\OneDrive - Howard University\\Howard\\Summer 2023\\PARADIM\\API\\NewAllE_cleaned.csv\", header=None)\n",
    "\n",
    "    # Get the non-numeric columns\n",
    "    categorical_columns = dataset.select_dtypes(exclude=[\"number\"]).columns\n",
    "\n",
    "    # Initialize the LabelEncoder\n",
    "    label_encoder = LabelEncoder()\n",
    "\n",
    "    # Encode the categorical columns\n",
    "    for col in categorical_columns:\n",
    "        dataset[col] = label_encoder.fit_transform(dataset[col])\n",
    "\n",
    "    # Separate the input (X) and output (y) columns\n",
    "    X = dataset.iloc[:, :-1]\n",
    "    y = dataset.iloc[:, -1]\n",
    "\n",
    "    # Split the data into train and test sets\n",
    "    X_train, X_test, y_train, y_test = train_test_split(X, y, test_size=0.2)\n",
    "    \n",
    "    # Train the model\n",
    "    model.fit(X_train, y_train)\n",
    "\n",
    "    # Predict using the trained model\n",
    "    y_pred = model.predict(X_test)\n",
    "\n",
    "    # Calculate mean squared error\n",
    "    mse = mean_squared_error(y_test, y_pred)\n",
    "\n",
    "    # Calculate root mean squared error\n",
    "    rmse = mean_squared_error(y_test, y_pred, squared=False)\n",
    "    \n",
    "    # Calculate R-squared score\n",
    "    r2 = r2_score(y_test, y_pred)\n",
    "    \n",
    "    return mse, rmse, r2\n",
    "\n"
   ]
  },
  {
   "cell_type": "code",
   "execution_count": 2,
   "id": "4b04850e",
   "metadata": {
    "scrolled": true
   },
   "outputs": [],
   "source": [
    "model1 = DecisionTreeRegressor()\n",
    "model2 = xgb.XGBRegressor()\n",
    "model3 = RandomForestRegressor()"
   ]
  },
  {
   "cell_type": "code",
   "execution_count": 6,
   "id": "1db3efe4",
   "metadata": {},
   "outputs": [
    {
     "name": "stdout",
     "output_type": "stream",
     "text": [
      "Mean Squared Error (MSE): 1677015.4756446949\n",
      "Root Mean Squared Error (RMSE): 1294.996322637518\n",
      "R-squared Score: 0.8871663876581841\n"
     ]
    }
   ],
   "source": [
    "model1 = DecisionTreeRegressor()\n",
    "mse, rmse, r2 = calculate_accuracies(model1)\n",
    "print(\"Mean Squared Error (MSE):\", mse)\n",
    "print(\"Root Mean Squared Error (RMSE):\", rmse)\n",
    "print(\"R-squared Score:\", r2)"
   ]
  },
  {
   "cell_type": "code",
   "execution_count": 7,
   "id": "6b289a22",
   "metadata": {},
   "outputs": [
    {
     "name": "stdout",
     "output_type": "stream",
     "text": [
      "Mean Squared Error (MSE): 822458.7212406109\n",
      "Root Mean Squared Error (RMSE): 906.8950993585812\n",
      "R-squared Score: 0.9424700743810491\n"
     ]
    }
   ],
   "source": [
    "model2 = xgb.XGBRegressor()\n",
    "\n",
    "mse, rmse, r2 = calculate_accuracies(model2)\n",
    "print(\"Mean Squared Error (MSE):\", mse)\n",
    "print(\"Root Mean Squared Error (RMSE):\", rmse)\n",
    "print(\"R-squared Score:\", r2)"
   ]
  },
  {
   "cell_type": "code",
   "execution_count": 8,
   "id": "cfb972b1",
   "metadata": {},
   "outputs": [
    {
     "name": "stdout",
     "output_type": "stream",
     "text": [
      "Mean Squared Error (MSE): 1111551.6010729114\n",
      "Root Mean Squared Error (RMSE): 1054.301475420058\n",
      "R-squared Score: 0.929824782426697\n"
     ]
    }
   ],
   "source": [
    "model3 = RandomForestRegressor()\n",
    "mse, rmse, r2 = calculate_accuracies(model3)\n",
    "print(\"Mean Squared Error (MSE):\", mse)\n",
    "print(\"Root Mean Squared Error (RMSE):\", rmse)\n",
    "print(\"R-squared Score:\", r2)"
   ]
  }
 ],
 "metadata": {
  "kernelspec": {
   "display_name": "Python 3 (ipykernel)",
   "language": "python",
   "name": "python3"
  },
  "language_info": {
   "codemirror_mode": {
    "name": "ipython",
    "version": 3
   },
   "file_extension": ".py",
   "mimetype": "text/x-python",
   "name": "python",
   "nbconvert_exporter": "python",
   "pygments_lexer": "ipython3",
   "version": "3.9.16"
  }
 },
 "nbformat": 4,
 "nbformat_minor": 5
}
