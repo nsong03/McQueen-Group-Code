{
 "cells": [
  {
   "cell_type": "code",
   "execution_count": 37,
   "metadata": {},
   "outputs": [],
   "source": [
    "import numpy as np\n",
    "from mp_api.client import MPRester\n",
    "import re\n",
    "import pandas as pd\n",
    "import matplotlib.pyplot as plt\n",
    "from mpl_toolkits.mplot3d import Axes3D\n",
    "\n",
    "import ast"
   ]
  },
  {
   "cell_type": "code",
   "execution_count": 153,
   "metadata": {},
   "outputs": [],
   "source": [
    "pd.options.display.max_colwidth = 10000\n",
    "meltdata = pd.read_csv('meltpercentage.csv')\n"
   ]
  },
  {
   "cell_type": "code",
   "execution_count": 154,
   "metadata": {},
   "outputs": [],
   "source": [
    "fulldset = pd.read_csv('fulldataset_v2.csv')"
   ]
  },
  {
   "cell_type": "code",
   "execution_count": 156,
   "metadata": {},
   "outputs": [
    {
     "data": {
      "text/plain": [
       "\"[['H5.0N1.0O2.0' 270.8623352050781 12.525296211242676]\\n ['O4.0N2.0H7.0S1.0' 447.9265441894531 24.51280212402344]\\n ['Sn1.0Cl4.0S16.0O2.0' 383.6930847167969 17.9593563079834]\\n ...\\n ['S3.0N3.0Cl3.0O1.0' 350.7129211425781 18.69000816345215]\\n ['C6.0O4.0H12.0Sn1.0N2.0' 410.6375122070313 31.507009506225582]\\n ['Cl2.0C2.0O8.0H9.0N5.0' 334.7766418457031 43.660831451416016]]\""
      ]
     },
     "execution_count": 156,
     "metadata": {},
     "output_type": "execute_result"
    }
   ],
   "source": [
    "meltdata['2'][227]"
   ]
  },
  {
   "cell_type": "code",
   "execution_count": 22,
   "metadata": {},
   "outputs": [],
   "source": [
    "melt_names = meltdata['0']\n",
    "melt_amounts = meltdata['1']\n",
    "melt_heats = meltdata['2']\n",
    "material_melt = fulldset['Oxide Melt Temp']\n",
    "\n"
   ]
  },
  {
   "cell_type": "code",
   "execution_count": 140,
   "metadata": {},
   "outputs": [
    {
     "name": "stdout",
     "output_type": "stream",
     "text": [
      "0\n",
      "1\n",
      "2\n",
      "3\n",
      "4\n",
      "5\n",
      "6\n",
      "7\n",
      "8\n",
      "9\n",
      "10\n",
      "11\n",
      "12\n",
      "13\n",
      "14\n",
      "15\n",
      "16\n",
      "17\n",
      "18\n",
      "19\n",
      "20\n",
      "21\n",
      "22\n",
      "23\n",
      "24\n",
      "25\n",
      "26\n",
      "27\n",
      "28\n",
      "29\n",
      "30\n",
      "31\n",
      "32\n",
      "33\n",
      "34\n",
      "35\n",
      "36\n",
      "37\n",
      "38\n",
      "39\n",
      "40\n",
      "41\n",
      "42\n",
      "43\n",
      "44\n",
      "45\n",
      "46\n",
      "47\n",
      "48\n",
      "49\n",
      "50\n",
      "51\n",
      "52\n",
      "53\n",
      "54\n",
      "55\n",
      "56\n",
      "57\n",
      "58\n",
      "59\n",
      "60\n",
      "61\n",
      "62\n",
      "63\n",
      "64\n",
      "65\n",
      "66\n",
      "67\n",
      "68\n",
      "69\n",
      "70\n",
      "71\n",
      "72\n",
      "73\n",
      "74\n",
      "75\n",
      "76\n",
      "77\n",
      "78\n",
      "79\n",
      "80\n",
      "81\n",
      "82\n",
      "83\n",
      "84\n",
      "85\n",
      "86\n",
      "87\n",
      "88\n",
      "89\n",
      "90\n",
      "91\n",
      "92\n",
      "93\n",
      "94\n",
      "95\n",
      "96\n",
      "97\n",
      "98\n",
      "99\n",
      "100\n",
      "101\n",
      "102\n",
      "103\n",
      "104\n",
      "105\n",
      "106\n",
      "107\n",
      "108\n",
      "109\n",
      "110\n",
      "111\n",
      "112\n",
      "113\n",
      "114\n",
      "115\n",
      "116\n",
      "117\n",
      "118\n",
      "119\n",
      "120\n",
      "121\n",
      "122\n",
      "123\n",
      "124\n",
      "125\n",
      "126\n",
      "127\n",
      "128\n",
      "129\n",
      "130\n",
      "131\n",
      "132\n",
      "133\n",
      "134\n",
      "135\n",
      "136\n",
      "137\n",
      "138\n",
      "139\n",
      "140\n",
      "141\n",
      "142\n",
      "143\n",
      "144\n",
      "145\n",
      "146\n",
      "147\n",
      "148\n",
      "149\n",
      "150\n",
      "151\n",
      "152\n",
      "153\n",
      "154\n",
      "155\n",
      "156\n",
      "157\n",
      "158\n",
      "159\n",
      "160\n",
      "161\n",
      "162\n",
      "163\n",
      "164\n",
      "165\n",
      "166\n",
      "167\n",
      "168\n",
      "169\n",
      "170\n",
      "171\n",
      "172\n",
      "173\n",
      "174\n",
      "175\n",
      "176\n",
      "177\n",
      "178\n",
      "179\n",
      "180\n",
      "181\n",
      "182\n",
      "183\n",
      "184\n",
      "185\n",
      "186\n",
      "187\n",
      "188\n",
      "189\n",
      "190\n",
      "191\n",
      "192\n",
      "193\n",
      "194\n",
      "195\n",
      "196\n",
      "197\n",
      "198\n",
      "199\n",
      "200\n",
      "201\n",
      "202\n",
      "203\n",
      "204\n",
      "205\n",
      "206\n",
      "207\n",
      "208\n",
      "209\n",
      "210\n",
      "211\n",
      "212\n",
      "213\n",
      "214\n",
      "215\n",
      "216\n",
      "217\n",
      "218\n",
      "219\n",
      "220\n",
      "221\n",
      "222\n",
      "223\n",
      "224\n",
      "225\n",
      "226\n"
     ]
    },
    {
     "name": "stderr",
     "output_type": "stream",
     "text": [
      "C:\\Users\\songo\\AppData\\Local\\Temp\\ipykernel_8508\\3447576269.py:15: DeprecationWarning: `np.float` is a deprecated alias for the builtin `float`. To silence this warning, use `float` by itself. Doing this will not modify any behavior and is safe. If you specifically wanted the numpy scalar type, use `np.float64` here.\n",
      "Deprecated in NumPy 1.20; for more details and guidance: https://numpy.org/devdocs/release/1.20.0-notes.html#deprecations\n",
      "  if np.float(material_meltingtemp) > np.float(oxidemelt):\n",
      "C:\\Users\\songo\\AppData\\Local\\Temp\\ipykernel_8508\\3447576269.py:6: VisibleDeprecationWarning: Creating an ndarray from ragged nested sequences (which is a list-or-tuple of lists-or-tuples-or ndarrays with different lengths or shapes) is deprecated. If you meant to do this, you must specify 'dtype=object' when creating the ndarray.\n",
      "  meltingheats = np.array(ast.literal_eval(((melt_heats[id].replace('\\n', '')).replace(' ',','))))\n"
     ]
    },
    {
     "ename": "IndexError",
     "evalue": "too many indices for array: array is 1-dimensional, but 2 were indexed",
     "output_type": "error",
     "traceback": [
      "\u001b[1;31m---------------------------------------------------------------------------\u001b[0m",
      "\u001b[1;31mIndexError\u001b[0m                                Traceback (most recent call last)",
      "Cell \u001b[1;32mIn[140], line 10\u001b[0m\n\u001b[0;32m      8\u001b[0m percentmelted \u001b[39m=\u001b[39m \u001b[39m0\u001b[39m\n\u001b[0;32m      9\u001b[0m \u001b[39mfor\u001b[39;00m subid \u001b[39min\u001b[39;00m \u001b[39mrange\u001b[39m(\u001b[39mlen\u001b[39m(meltingamounts)):\n\u001b[1;32m---> 10\u001b[0m     name \u001b[39m=\u001b[39m meltingheats[subid, \u001b[39m0\u001b[39;49m]\n\u001b[0;32m     11\u001b[0m     oxidemelt \u001b[39m=\u001b[39m meltingheats[subid, \u001b[39m1\u001b[39m]\n\u001b[0;32m     12\u001b[0m     index \u001b[39m=\u001b[39m np\u001b[39m.\u001b[39mwhere(meltingnames \u001b[39m==\u001b[39m name)[\u001b[39m0\u001b[39m][\u001b[39m0\u001b[39m]\n",
      "\u001b[1;31mIndexError\u001b[0m: too many indices for array: array is 1-dimensional, but 2 were indexed"
     ]
    }
   ],
   "source": [
    "meltingpercents = []\n",
    "for id in range(len(melt_names)):\n",
    "    material_meltingtemp = material_melt[id]    \n",
    "    meltingnames = np.array(ast.literal_eval(((melt_names[id].replace('\\n', '')).replace(' ',','))))\n",
    "    meltingamounts = np.array(ast.literal_eval((((((melt_amounts[id].replace('\\n', '')).replace('  ',',')).replace(' -',',-')).replace(' ', ',')).replace('[,','[')).replace(',,',',')))\n",
    "    meltingheats = np.array(ast.literal_eval(((melt_heats[id].replace('\\n', '')).replace(' ',','))))\n",
    "    \n",
    "    percentmelted = 0\n",
    "    for subid in range(len(meltingamounts)):\n",
    "        name = meltingheats[subid, 0]\n",
    "        oxidemelt = meltingheats[subid, 1]\n",
    "        index = np.where(meltingnames == name)[0][0]\n",
    "        oxideamount = meltingamounts[index]\n",
    "\n",
    "        if np.float(material_meltingtemp) > np.float(oxidemelt):\n",
    "            percentmelted += oxideamount\n",
    "    meltingpercents.append(percentmelted)\n",
    "    print(id)\n",
    "\n",
    "meltingpercents\n"
   ]
  },
  {
   "cell_type": "code",
   "execution_count": 142,
   "metadata": {},
   "outputs": [
    {
     "name": "stderr",
     "output_type": "stream",
     "text": [
      "C:\\Users\\songo\\AppData\\Local\\Temp\\ipykernel_8508\\797186408.py:1: VisibleDeprecationWarning: Creating an ndarray from ragged nested sequences (which is a list-or-tuple of lists-or-tuples-or ndarrays with different lengths or shapes) is deprecated. If you meant to do this, you must specify 'dtype=object' when creating the ndarray.\n",
      "  np.array(ast.literal_eval(((melt_heats[227].replace('\\n', '')).replace(' ',','))))\n"
     ]
    },
    {
     "data": {
      "text/plain": [
       "array([list(['H5.0N1.0O2.0', 270.8623352050781, 12.525296211242676]),\n",
       "       list(['O4.0N2.0H7.0S1.0', 447.9265441894531, 24.51280212402344]),\n",
       "       list(['Sn1.0Cl4.0S16.0O2.0', 383.6930847167969, 17.9593563079834]),\n",
       "       Ellipsis,\n",
       "       list(['S3.0N3.0Cl3.0O1.0', 350.7129211425781, 18.69000816345215]),\n",
       "       list(['C6.0O4.0H12.0Sn1.0N2.0', 410.6375122070313, 31.507009506225582]),\n",
       "       list(['Cl2.0C2.0O8.0H9.0N5.0', 334.7766418457031, 43.660831451416016])],\n",
       "      dtype=object)"
      ]
     },
     "execution_count": 142,
     "metadata": {},
     "output_type": "execute_result"
    }
   ],
   "source": [
    "np.array(ast.literal_eval(((melt_heats[227].replace('\\n', '')).replace(' ',','))))"
   ]
  },
  {
   "cell_type": "code",
   "execution_count": 152,
   "metadata": {},
   "outputs": [
    {
     "data": {
      "text/plain": [
       "\"[['H5.0N1.0O2.0' 270.8623352050781 12.525296211242676]\\n ['O4.0N2.0H7.0S1.0' 447.9265441894531 24.51280212402344]\\n ['Sn1.0Cl4.0S16.0O2.0' 383.6930847167969 17.9593563079834]\\n ...\\n ['S3.0N3.0Cl3.0O1.0' 350.7129211425781 18.69000816345215]\\n ['C6.0O4.0H12.0Sn1.0N2.0' 410.6375122070313 31.507009506225582]\\n ['Cl2.0C2.0O8.0H9.0N5.0' 334.7766418457031 43.660831451416016]]\""
      ]
     },
     "execution_count": 152,
     "metadata": {},
     "output_type": "execute_result"
    }
   ],
   "source": [
    "meltdata.iloc[227,2]"
   ]
  },
  {
   "cell_type": "code",
   "execution_count": 111,
   "metadata": {},
   "outputs": [
    {
     "data": {
      "text/plain": [
       "\"[['Th1.0O2.0',3458.13720703125,115.7919921875],['O2.0',148.1365203857422,41.96320343017578],['Th1.0S2.0O8.0',1290.81591796875,24.801441192626957],['Th1.0S2.0O16.0',1275.9193115234375,11.024173736572266],['Th3.0O2.0',3104.824462890625,100.9566879272461],['S1.0O3.0',218.39776611328125,14.109784126281738],['Ge1.0O2.0',1359.9036865234375,7.457825183868408],['Ge7.0O23.0',1168.6468505859375,116.98409271240234],['S1.0O6.0',215.5437164306641,20.101356506347656],['Th1.0O1.0',3186.443115234375,144.70944213867188],['Th1.0Ge1.0O4.0',1837.50439453125,180.11227416992188],['Th1.0S1.0O1.0',2462.891845703125,76.17437744140625],['Ge2.0O2.0Th1.0',2160.8232421875,109.09124755859376],['S1.0O2.0',242.699462890625,38.07986831665039],['Ge7.0O16.0',1327.3682861328125,67.9559097290039],['Th1.0S1.0O6.0',1277.9598388671875,11.930044174194336],['Ge3.0O1.0',1234.9307861328125,123.77096557617188],['Th3.0O1.0',2649.966552734375,361.61907958984375],['Th1.0Ge1.0O2.0',2241.56201171875,133.30792236328125],['S1.0O4.0',219.9852600097656,15.07088565826416],['S1.0O12.0',206.152587890625,21.229473114013672],['S8.0O1.0',316.2118835449219,49.76995086669922],['S1.0O5.0',222.25294494628903,16.568662643432617],['Ge5.0O11.0',1346.752197265625,31.95116806030273],['Ge2.0O3.0',1355.154296875,8.459859848022461]]\""
      ]
     },
     "execution_count": 111,
     "metadata": {},
     "output_type": "execute_result"
    }
   ],
   "source": [
    "best = meltdata['2'][4]\n",
    "best1 = best.replace('\\n', '')\n",
    "best2 = best1.replace(' ',',')\n",
    "best3 = best2.replace(' -',',-')\n",
    "index = np.where(np.array(ast.literal_eval(best2))[:,0] == testtest)[0][0]\n",
    "best2[index]"
   ]
  },
  {
   "cell_type": "code",
   "execution_count": 105,
   "metadata": {},
   "outputs": [
    {
     "data": {
      "text/plain": [
       "6"
      ]
     },
     "execution_count": 105,
     "metadata": {},
     "output_type": "execute_result"
    }
   ],
   "source": [
    "index[0]"
   ]
  },
  {
   "cell_type": "code",
   "execution_count": 101,
   "metadata": {},
   "outputs": [
    {
     "data": {
      "text/plain": [
       "\"[['Th1.0O2.0',3458.13720703125,115.7919921875],['O2.0',148.1365203857422,41.96320343017578],['Th1.0S2.0O8.0',1290.81591796875,24.801441192626957],['Th1.0S2.0O16.0',1275.9193115234375,11.024173736572266],['Th3.0O2.0',3104.824462890625,100.9566879272461],['S1.0O3.0',218.39776611328125,14.109784126281738],['Ge1.0O2.0',1359.9036865234375,7.457825183868408],['Ge7.0O23.0',1168.6468505859375,116.98409271240234],['S1.0O6.0',215.5437164306641,20.101356506347656],['Th1.0O1.0',3186.443115234375,144.70944213867188],['Th1.0Ge1.0O4.0',1837.50439453125,180.11227416992188],['Th1.0S1.0O1.0',2462.891845703125,76.17437744140625],['Ge2.0O2.0Th1.0',2160.8232421875,109.09124755859376],['S1.0O2.0',242.699462890625,38.07986831665039],['Ge7.0O16.0',1327.3682861328125,67.9559097290039],['Th1.0S1.0O6.0',1277.9598388671875,11.930044174194336],['Ge3.0O1.0',1234.9307861328125,123.77096557617188],['Th3.0O1.0',2649.966552734375,361.61907958984375],['Th1.0Ge1.0O2.0',2241.56201171875,133.30792236328125],['S1.0O4.0',219.9852600097656,15.07088565826416],['S1.0O12.0',206.152587890625,21.229473114013672],['S8.0O1.0',316.2118835449219,49.76995086669922],['S1.0O5.0',222.25294494628903,16.568662643432617],['Ge5.0O11.0',1346.752197265625,31.95116806030273],['Ge2.0O3.0',1355.154296875,8.459859848022461]]\""
      ]
     },
     "execution_count": 101,
     "metadata": {},
     "output_type": "execute_result"
    }
   ],
   "source": [
    "best2"
   ]
  },
  {
   "cell_type": "code",
   "execution_count": 67,
   "metadata": {},
   "outputs": [
    {
     "data": {
      "text/plain": [
       "'[ 2.06835919e-03  9.56372996e-07  1.37629501e-02  5.08632660e-03\\n  2.89919720e-03  2.08025311e-03  3.98614696e-02  1.71161798e-02\\n  5.06525601e-02 -1.53939861e-02 -1.53959089e-04  5.90092440e-03\\n -5.19298079e-06  2.32746760e-02  4.85668319e-02  1.36146645e-03\\n  2.28171913e-03  1.82834317e-03  1.77917075e-02  9.74665021e-03\\n  3.16190292e-03  1.23867098e-02  9.25596912e-03 -7.22730920e-03\\n -3.67811022e-02  2.50969641e-02 -1.15933829e-02  2.53201226e-02\\n -1.70232390e-03 -1.55895167e-03  2.33683294e-03 -4.14117069e-03\\n  5.37268598e-02  2.53641228e-03  2.77883153e-02 -4.38791965e-02\\n  2.62843309e-02 -1.47898210e-01  3.30705567e-03 -9.52919290e-03\\n -2.04591097e-02  8.65243284e-03  3.01006199e-03 -4.68406004e-03\\n -6.84697482e-04 -2.70136159e-02  3.19761036e-02  2.21652863e-02\\n -2.52192909e-02  2.87459596e-02 -4.51962193e-03 -1.36188634e-03\\n -2.27963957e-03]'"
      ]
     },
     "execution_count": 67,
     "metadata": {},
     "output_type": "execute_result"
    }
   ],
   "source": [
    "melt_amounts[1]"
   ]
  },
  {
   "cell_type": "code",
   "execution_count": null,
   "metadata": {},
   "outputs": [],
   "source": []
  }
 ],
 "metadata": {
  "kernelspec": {
   "display_name": "Python 3",
   "language": "python",
   "name": "python3"
  },
  "language_info": {
   "codemirror_mode": {
    "name": "ipython",
    "version": 3
   },
   "file_extension": ".py",
   "mimetype": "text/x-python",
   "name": "python",
   "nbconvert_exporter": "python",
   "pygments_lexer": "ipython3",
   "version": "3.11.1"
  },
  "orig_nbformat": 4
 },
 "nbformat": 4,
 "nbformat_minor": 2
}
