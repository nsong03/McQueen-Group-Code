{
 "cells": [
  {
   "cell_type": "code",
   "execution_count": null,
   "id": "83f8589d",
   "metadata": {},
   "outputs": [],
   "source": [
    "import pandas as pd\n",
    "from sklearn.tree import DecisionTreeClassifier\n",
    "from sklearn.model_selection import train_test_split\n",
    "from sklearn.metrics import accuracy_score\n",
    "\n",
    "music_data = pd.read_csv('music.csv')\n",
    "X = music_data.drop(columns= ['genre'])\n",
    "y = music_data['genre']\n",
    "X_train, X_test, y_train, y_test = train_test_split(X,y, test_size = 0.5)\n",
    "\n",
    "model = DecisionTreeClassifier()\n",
    "model.fit(X_train,y_train)\n",
    "predictions = model.predict(X_test)\n",
    "\n",
    "score = accuracy_score(y_test, predictions)\n",
    "score"
   ]
  },
  {
   "cell_type": "code",
   "execution_count": 124,
   "id": "0873dc40",
   "metadata": {},
   "outputs": [
    {
     "name": "stdout",
     "output_type": "stream",
     "text": [
      "    0   1\n",
      "0   2  17\n",
      "1   6   7\n",
      "2   7  18\n",
      "3   1  15\n",
      "4   1   6\n",
      "5   1  12\n",
      "6   5   1\n",
      "7   3   3\n",
      "8   7  20\n",
      "9   0   5\n",
      "10  2  11\n",
      "11  2  13\n",
      "12  2   8\n",
      "13  7  19\n",
      "14  1  14\n",
      "15  1   0\n",
      "16  1   9\n",
      "17  2  10\n",
      "18  4   4\n",
      "19  7   2\n",
      "20  1  16\n",
      "Mean Squared Error: 59446.651488417025\n"
     ]
    },
    {
     "data": {
      "text/plain": [
       "array([-635.14190436])"
      ]
     },
     "execution_count": 124,
     "metadata": {},
     "output_type": "execute_result"
    }
   ],
   "source": [
    "import numpy as np\n",
    "import pandas as pd\n",
    "from sklearn.tree import DecisionTreeRegressor\n",
    "from sklearn.model_selection import train_test_split\n",
    "from sklearn.metrics import mean_squared_error\n",
    "from sklearn.preprocessing import LabelEncoder\n",
    "\n",
    "oxide_data = pd.read_csv(r\"C:\\Users\\jayso\\OneDrive - Howard University\\Howard\\Summer 2023\\PARADIM\\API\\ironoxides_formE.csv\", header=None,skiprows=1)\n",
    "y = oxide_data.iloc[:, -1]\n",
    "X = oxide_data.iloc[:, :-1]\n",
    "\n",
    "# Assuming 'compounds' is the name of the column containing chemical compounds in your DataFrame\n",
    "compounds = oxide_data.iloc[:, 0].values\n",
    "mp_id = oxide_data.iloc[:, 1].values\n",
    "\n",
    "# Initialize the LabelEncoder\n",
    "label_encoder = LabelEncoder()\n",
    "\n",
    "# Fit and transform the compounds column\n",
    "encoded_compounds = label_encoder.fit_transform(compounds)\n",
    "encoded_mp_id = label_encoder.fit_transform(mp_id)\n",
    "\n",
    "combined_array = np.column_stack((encoded_compounds, encoded_mp_id))\n",
    "\n",
    "X_encoded = pd.DataFrame(combined_array)\n",
    "print(X_encoded)\n",
    "\n",
    "X_train, X_test, y_train, y_test = train_test_split(X_encoded, y, test_size=0.2)\n",
    "\n",
    "model = DecisionTreeRegressor()\n",
    "model.fit(X_train, y_train)\n",
    "predictions = model.predict(X_test)\n",
    "\n",
    "mse = mean_squared_error(y_test, predictions)\n",
    "print(\"Mean Squared Error:\", mse)\n",
    "\n",
    "\n",
    "model.predict([[2,17]])"
   ]
  },
  {
   "cell_type": "code",
   "execution_count": null,
   "id": "65ca0c3c",
   "metadata": {},
   "outputs": [],
   "source": []
  }
 ],
 "metadata": {
  "kernelspec": {
   "display_name": "Python 3 (ipykernel)",
   "language": "python",
   "name": "python3"
  },
  "language_info": {
   "codemirror_mode": {
    "name": "ipython",
    "version": 3
   },
   "file_extension": ".py",
   "mimetype": "text/x-python",
   "name": "python",
   "nbconvert_exporter": "python",
   "pygments_lexer": "ipython3",
   "version": "3.9.16"
  }
 },
 "nbformat": 4,
 "nbformat_minor": 5
}
