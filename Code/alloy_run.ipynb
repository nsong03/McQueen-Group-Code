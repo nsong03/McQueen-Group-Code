{
 "cells": [
  {
   "cell_type": "code",
   "execution_count": 1,
   "metadata": {},
   "outputs": [],
   "source": [
    "import pymatgen\n",
    "import numpy as np\n",
    "from mp_api.client import MPRester\n",
    "\n",
    "import pandas as pd\n",
    "import re\n",
    "import chemparse\n"
   ]
  },
  {
   "cell_type": "code",
   "execution_count": 2,
   "metadata": {},
   "outputs": [
    {
     "name": "stderr",
     "output_type": "stream",
     "text": [
      "c:\\cleen\\Apps\\Anaconda\\lib\\site-packages\\mp_api\\client\\mprester.py:182: UserWarning: mpcontribs-client not installed. Install the package to query MPContribs data, or construct pourbaix diagrams: 'pip install mpcontribs-client'\n",
      "  warnings.warn(\n"
     ]
    }
   ],
   "source": [
    "# Yoink all binary oxides from the materials project database. Find oxides with the lowest formation energy.\n",
    "api_key = 'Lv3H4D1twE2kDiXZLWdaBTIRM82iRdCi'\n",
    "mpr = MPRester(api_key)"
   ]
  },
  {
   "cell_type": "code",
   "execution_count": 3,
   "metadata": {},
   "outputs": [
    {
     "data": {
      "application/vnd.jupyter.widget-view+json": {
       "model_id": "7cea2c76ec964b1dbb6e768463ab0116",
       "version_major": 2,
       "version_minor": 0
      },
      "text/plain": [
       "Retrieving SummaryDoc documents:   0%|          | 0/49601 [00:00<?, ?it/s]"
      ]
     },
     "metadata": {},
     "output_type": "display_data"
    }
   ],
   "source": [
    "# possiblealloys = mpr.summary.search(theoretical=True,fields=[\"material_id\",\"formula_pretty\",\"decomposes_to\",\"formation_energy_per_atom\",\"energy_per_atom\"])\n",
    "realizedalloys = mpr.summary.search(theoretical=False, fields=[\"material_id\",\"formula_pretty\",\"decomposes_to\",\"formation_energy_per_atom\",\"energy_per_atom\"])"
   ]
  },
  {
   "cell_type": "code",
   "execution_count": 4,
   "metadata": {},
   "outputs": [],
   "source": [
    "## Used to get data straight from MPR\n",
    "writing = realizedalloys\n",
    "writing_id = [oxide.material_id for oxide in writing]\n",
    "writing_formula = [oxide.formula_pretty for oxide in writing]\n",
    "writing_decompose = [oxide.decomposes_to for oxide in writing]\n",
    "writing_formationenergyperatom = [oxide.formation_energy_per_atom for oxide in writing]\n",
    "writing_energyperatom = [oxide.energy_per_atom for oxide in writing]\n",
    "names_fixed = []\n",
    "for alloy in writing_formula:\n",
    "    transformed_text = chemparse.parse_formula(alloy)\n",
    "    keys = np.array(list(transformed_text.keys()))\n",
    "    values = np.array(list(transformed_text.values()))\n",
    "\n",
    "    # Reshape the keys and values arrays to have two columns\n",
    "    keys = np.reshape(keys, (-1, 1))\n",
    "    values = np.reshape(values, (-1, 1))\n",
    "\n",
    "    # Concatenate the keys and values arrays horizontally\n",
    "    result = np.concatenate((keys, values), axis=1)\n",
    "\n",
    "    output_string = ''\n",
    "    for row in result:\n",
    "        output_string += row[0] + row[1]\n",
    "    names_fixed.append(output_string)\n",
    "\n",
    "\n",
    "writing_data = np.column_stack((writing_id, writing_formula, writing_formationenergyperatom, writing_energyperatom))\n",
    "writing_data = np.savetxt('realizedalloys_data.csv', writing_data, delimiter=',', fmt='%s')\n"
   ]
  },
  {
   "cell_type": "code",
   "execution_count": 5,
   "metadata": {},
   "outputs": [],
   "source": [
    "alloynames = names_fixed\n",
    "alloyformE = writing_formationenergyperatom"
   ]
  },
  {
   "cell_type": "code",
   "execution_count": 2,
   "metadata": {},
   "outputs": [],
   "source": [
    "material_dataset = []\n",
    "\n",
    "mainingredient = ['Superconductor'] ###\n",
    "calculation1 = ['Formation Energy of supercon']\n",
    "calculation2 = ['Weighted formation energy of likely oxides']\n",
    "\n",
    "maincomp = ['atomicradius1','atomicradius2','atomicradius3','atomicradius4','atomicradius5','atomicradius6','atomicradius7','atomicradius8','atomicradius9','atomicradius10',\n",
    "            'fusionheat1','fusionheat2','fusionheat3','fusionheat4','fusionheat5','fusionheat6','fusionheat7','fusionheat8','fusionheat9','fusionheat10',\n",
    "            'thermalcond1','thermalcond2','thermalcond3','thermalcond4','thermalcond5','thermalcond6','thermalcond7','thermalcond8','thermalcond9','thermalcond10',\n",
    "            'numvalence1','numvalence2','numvalence3','numvalence4','numvalence5','numvalence6','numvalence7','numvalence8','numvalence9','numvalence10',\n",
    "            'Tc'] ###\n",
    "\n",
    "comp1 = ['number','period','group','Gas','Solid','Liquid','atomic_mass','boil','density','melt','electron_affinity','electronegativity_pauling','firstionE']\n",
    "comp2 = ['number','period','group','Gas','Solid','Liquid','atomic_mass','boil','density','melt','electron_affinity','electronegativity_pauling','firstionE']\n",
    "comp3 = ['number','period','group','Gas','Solid','Liquid','atomic_mass','boil','density','melt','electron_affinity','electronegativity_pauling','firstionE']\n",
    "comp4 = ['number','period','group','Gas','Solid','Liquid','atomic_mass','boil','density','melt','electron_affinity','electronegativity_pauling','firstionE']\n",
    "comp5 = ['number','period','group','Gas','Solid','Liquid','atomic_mass','boil','density','melt','electron_affinity','electronegativity_pauling','firstionE']\n",
    "comp6 = ['number','period','group','Gas','Solid','Liquid','atomic_mass','boil','density','melt','electron_affinity','electronegativity_pauling','firstionE']\n",
    "comp7 = ['number','period','group','Gas','Solid','Liquid','atomic_mass','boil','density','melt','electron_affinity','electronegativity_pauling','firstionE']\n",
    "comp8 = ['number','period','group','Gas','Solid','Liquid','atomic_mass','boil','density','melt','electron_affinity','electronegativity_pauling','firstionE']\n",
    "comp9 = ['number','period','group','Gas','Solid','Liquid','atomic_mass','boil','density','melt','electron_affinity','electronegativity_pauling','firstionE']\n",
    "ingredient_coefficients = ['comp1','comp2','comp3','comp4','comp5','comp6','comp7','comp8','comp9']\n",
    "all_comp = np.concatenate((ingredient_coefficients,comp1,comp2,comp3,comp4,comp5,comp6,comp7,comp8,comp9))\n",
    "\n",
    "\n",
    "### Insert ingredients (materials) of interest here\n",
    "mainingredient = np.array(['Cu1.0P6.0Pb9.0O25.0'])\n",
    "calculation1 = np.array([-2.134*41])\n",
    "maincomp = np.zeros((len(mainingredient),len(maincomp)))"
   ]
  },
  {
   "cell_type": "code",
   "execution_count": 3,
   "metadata": {},
   "outputs": [],
   "source": [
    "# Boot up materials project\n",
    "# api_key = 'Lv3H4D1twE2kDiXZLWdaBTIRM82iRdCi'\n",
    "# mpr = MPRester(api_key)\n",
    "binaryoxides = np.genfromtxt('binaryoxide_data.csv', delimiter=',', dtype=None, encoding=None)\n",
    "\n",
    "#### OBTAIN calculation1\n",
    "def getbinaryoxides(element):\n",
    "    oxides_data = np.asarray([999999,999999,999999])\n",
    "    checker = np.asarray([999999,999999,999999])\n",
    "    chars = len(element)\n",
    "    for oxides in binaryoxides:\n",
    "        if element == oxides[1][0:chars] and oxides[1][chars:chars+1].isdigit():\n",
    "            oxidename = oxides[1]\n",
    "            oxideformE = oxides[2]\n",
    "            oxideEperatom = oxides[3]\n",
    "            oxides_data = np.vstack((oxides_data, [oxidename, oxideformE, oxideEperatom]))\n",
    "    \n",
    "    if np.shape(oxides_data) == np.shape(checker):\n",
    "        return [0]\n",
    "    else:\n",
    "        rank_indices = np.argsort(oxides_data[:,1])\n",
    "        rankedoxides = np.flip(oxides_data[rank_indices], axis=0)\n",
    "        return rankedoxides\n",
    "\n",
    "### End output here is ranked_neg_oxides with the most likely oxide first.\n",
    "def weight_exp(arr):\n",
    "    weighted_arr = []\n",
    "    # Weight using a logistic function\n",
    "    supremum = np.max(arr)\n",
    "    exp = len(arr) / 2\n",
    "    x0 = np.average(arr) - np.std(arr)\n",
    "    for energies in arr:\n",
    "        weight = supremum/(1+np.exp(exp*(energies-x0))) * -1\n",
    "        weighted_arr.append(weight)    \n",
    "        \n",
    "    return weighted_arr\n",
    "\n",
    "#### STORE calculation 1\n"
   ]
  },
  {
   "cell_type": "code",
   "execution_count": 4,
   "metadata": {},
   "outputs": [
    {
     "name": "stderr",
     "output_type": "stream",
     "text": [
      "C:\\Users\\songo\\AppData\\Local\\Temp\\ipykernel_1724\\1381960302.py:97: FutureWarning: elementwise comparison failed; returning scalar instead, but in the future will perform elementwise comparison\n",
      "  if oxides[0] == 0:\n"
     ]
    }
   ],
   "source": [
    "### Create list of element oxides and their formation energies + weights\n",
    "periodictable = pd.read_csv('PeriodicTableCleaned_data.csv')\n",
    "\n",
    "elements = np.asarray(periodictable['symbol'])\n",
    "elements_data = np.asarray(periodictable.iloc[:, 1:])\n",
    "element_oxides = []\n",
    "\n",
    "for sample in elements:\n",
    "    test = getbinaryoxides(sample) \n",
    "    if np.shape(test) == np.shape([0]):\n",
    "        element_oxides.append([0])\n",
    "        continue\n",
    "    list = test\n",
    "    neg_oxides_name = []\n",
    "    neg_oxides_formE = []\n",
    "    neg_oxides_Eperatom = []\n",
    "\n",
    "    ### Get rid of positive formation energy oxides.\n",
    "    for oxides in list:\n",
    "        if float(oxides[1]) < 0:\n",
    "            neg_oxides_name.append(oxides[0])\n",
    "            neg_oxides_formE.append(oxides[1])\n",
    "            neg_oxides_Eperatom.append(oxides[2])\n",
    "\n",
    "    neg_oxides = np.column_stack((neg_oxides_name, neg_oxides_formE, neg_oxides_Eperatom))\n",
    "            \n",
    "    uniques = np.unique(neg_oxides[:,0])\n",
    "    list_uniques = []\n",
    "    for oxides in uniques:\n",
    "        formationE = neg_oxides[neg_oxides[:, 0] == oxides]\n",
    "        likelyoxide = [formationE[0][0], formationE[0][1], formationE[0][2]]\n",
    "        list_uniques.append(likelyoxide)\n",
    "        # make into numpy array\n",
    "    list_uniques = np.asarray(list_uniques)\n",
    "    if len(list_uniques) == 0:\n",
    "        element_oxides.append([0])\n",
    "        continue\n",
    "        \n",
    "    ### list_uniques is the thing we want\n",
    "    rank_list = np.argsort(list_uniques[:,1])\n",
    "    ranked_neg_oxides = np.flip(list_uniques[rank_list], axis=0)\n",
    "    ranked_neg_oxides_formE = np.asarray(ranked_neg_oxides[:,1], dtype = float)\n",
    "    \n",
    "    raw_weights_oxides = weight_exp(ranked_neg_oxides_formE)\n",
    "    normalized_weights = raw_weights_oxides / np.sum(raw_weights_oxides)\n",
    "    \n",
    "    ####### THIS PART MAY NEED UPDATING IF WE DECIDE TO INCLUDE TERNARY OXIDES\n",
    "    coeff_first = []\n",
    "    coeff_second = []\n",
    "    for oxides in ranked_neg_oxides:\n",
    "        formula = oxides[0]\n",
    "        coeff_first.append(re.search(r'\\d+', formula).group())\n",
    "        if formula[-1].isdigit():\n",
    "            coeff_second.append(re.findall(r'\\d+', formula)[1])\n",
    "        else:\n",
    "            coeff_second.append(1)\n",
    "    \n",
    "    coeff_first = np.asarray(coeff_first, dtype=float)\n",
    "    coeff_second = np.asarray(coeff_second, dtype=float)\n",
    "    netformE = np.asarray(ranked_neg_oxides[:,1], dtype=float) * (coeff_first + coeff_second)\n",
    "    \n",
    "    ### likely_oxides => Formatted as [Oxide name, Formation Energy / atom, Energy per atom, net formE, Weights, numfirstatoms]\n",
    "    likely_oxides = np.column_stack((ranked_neg_oxides, netformE, normalized_weights, coeff_first))\n",
    "    element_oxides.append(likely_oxides)\n",
    "    \n",
    "### Using this function takes the approach - \n",
    "## Assume that X% of element is allocated to this alloy, X% to the other alloy, X% to another...\n",
    "# Then net formation energy is actual # of alloy made * net formation energy of alloy \n",
    "\n",
    "def componentformE_mass(element, size):\n",
    "    indexarr = np.where(elements == element)\n",
    "    index = indexarr[0][0]\n",
    "    oxides = element_oxides[index]\n",
    "    if oxides[0] == 0:\n",
    "        return 0\n",
    "    numelements_inoxide = np.asarray(oxides[:,5], dtype = float)\n",
    "    weights = np.asarray(oxides[:,4], dtype = float)\n",
    "    netformE = np.asarray(oxides[:,3], dtype = float)\n",
    "    \n",
    "    allocated_element = size * weights\n",
    "    weighted_oxides = allocated_element / numelements_inoxide\n",
    "    formE_oxides = weighted_oxides * netformE\n",
    "    \n",
    "    partialformE = np.sum(formE_oxides)\n",
    "    return partialformE\n",
    "\n",
    "### The other option is that X% of the TOTAL oxides made is 1, X% of the total is 2, ...\n",
    "## Procedure is:\n",
    "# First, based on coeff_first of the alloy, determine how much total hydrogen is required from percentages.\n",
    "# So if there's 100 alloys total, X% * coeff_first[0] + X% * coeff_first[1] + ... = net # elements\n",
    "#\n",
    "\n",
    "def componentformE_total(element,size):\n",
    "    indexarr = np.where(elements == element)\n",
    "    index = indexarr[0][0]\n",
    "    oxides = element_oxides[index]\n",
    "    if oxides[0] == 0:\n",
    "        return 0\n",
    "    numelements_inoxide = np.asarray(oxides[:,5], dtype = float)\n",
    "    weights = np.asarray(oxides[:,4], dtype = float)\n",
    "    netformE = np.asarray(oxides[:,3], dtype = float)\n",
    "    \n",
    "    netelement = np.sum(weights*numelements_inoxide)\n",
    "    multiplier = float(size) / float(netelement)\n",
    "    formE_oxides = multiplier*netformE*weights\n",
    "    \n",
    "    partialformE = np.sum(formE_oxides)\n",
    "    return partialformE\n",
    "\n",
    "### Remember the formation energies of the oxides (weighted) is calculation2\n",
    "calculation2 = []\n",
    "\n",
    "import chemparse\n",
    "\n",
    "for ingredient in mainingredient:\n",
    "    parsedformula = chemparse.parse_formula(ingredient)\n",
    "    parsedelements = [*parsedformula.keys()]\n",
    "    parsedcomp = [*parsedformula.values()]\n",
    "    parsed_main = np.column_stack((parsedelements,parsedcomp))\n",
    "    calc_formE = []\n",
    "    for components in parsed_main:\n",
    "        element = components[0]\n",
    "        size = components[1]\n",
    "        formE = componentformE_total(element, size)\n",
    "        calc_formE.append(formE)\n",
    "    weightedformE = np.sum(np.asarray(calc_formE, dtype=float))\n",
    "    calculation2.append(weightedformE)\n",
    "    \n",
    "### after running, calculation2 is now set. "
   ]
  },
  {
   "cell_type": "code",
   "execution_count": 5,
   "metadata": {},
   "outputs": [],
   "source": [
    "### Now populate the component data. We leave those bois blank if there aren't enough components.T\n",
    "all_comp = []\n",
    "for ingredient in mainingredient:\n",
    "    parsedformula = chemparse.parse_formula(ingredient)\n",
    "    parsedelements = [*parsedformula.keys()]\n",
    "    parsedcomp = [*parsedformula.values()]\n",
    "    parsed_main = np.column_stack((parsedelements,parsedcomp))\n",
    "    \n",
    "    complen = len(comp1)*9\n",
    "    compfill = len(parsedelements)*13\n",
    "    coefflen = len(ingredient_coefficients)\n",
    "    coeff_fill = len(parsedelements)\n",
    "    comp_unfilled = complen - compfill\n",
    "    coeff_unfilled = coefflen - coeff_fill\n",
    "    \n",
    "    unfilled_comp = np.zeros(comp_unfilled)\n",
    "    unfilled_coeff = np.zeros(coeff_unfilled)\n",
    "    filled_comp = []\n",
    "    filled_coeff = []\n",
    "    for parsed in parsed_main:\n",
    "        element = parsed[0]\n",
    "        weight = [parsed[1]]\n",
    "        index = np.where(elements == element)[0][0]\n",
    "        elementdata = elements_data[index]\n",
    "\n",
    "        filled_coeff = np.concatenate((filled_coeff, weight))\n",
    "        filled_comp = np.concatenate((filled_comp, elementdata))\n",
    "        \n",
    "    net_comp = np.concatenate((filled_comp, unfilled_comp))\n",
    "    net_coeff = np.concatenate((filled_coeff, unfilled_coeff))\n",
    "    \n",
    "    row = np.concatenate((net_coeff, net_comp))\n",
    "    \n",
    "    all_comp.append(row)\n",
    "    "
   ]
  },
  {
   "cell_type": "code",
   "execution_count": 6,
   "metadata": {},
   "outputs": [
    {
     "name": "stdout",
     "output_type": "stream",
     "text": [
      "(1,)\n",
      "(1,)\n",
      "(1,)\n",
      "(1, 41)\n",
      "(1, 126)\n"
     ]
    }
   ],
   "source": [
    "## test - all first shape elements should be the same\n",
    "print(np.shape(mainingredient))\n",
    "print(np.shape(calculation1))\n",
    "print(np.shape(calculation2))\n",
    "print(np.shape(maincomp))\n",
    "print(np.shape(all_comp))"
   ]
  },
  {
   "cell_type": "code",
   "execution_count": 7,
   "metadata": {},
   "outputs": [],
   "source": [
    "material_dataset_data = np.column_stack((mainingredient, calculation1, calculation2, maincomp, all_comp))"
   ]
  },
  {
   "cell_type": "code",
   "execution_count": 9,
   "metadata": {},
   "outputs": [],
   "source": [
    "np.savetxt('predictionsofinterest.csv', material_dataset_data, delimiter=',',fmt='%s')\n"
   ]
  },
  {
   "cell_type": "code",
   "execution_count": null,
   "metadata": {},
   "outputs": [],
   "source": []
  }
 ],
 "metadata": {
  "kernelspec": {
   "display_name": "base",
   "language": "python",
   "name": "python3"
  },
  "language_info": {
   "codemirror_mode": {
    "name": "ipython",
    "version": 3
   },
   "file_extension": ".py",
   "mimetype": "text/x-python",
   "name": "python",
   "nbconvert_exporter": "python",
   "pygments_lexer": "ipython3",
   "version": "3.9.13"
  },
  "orig_nbformat": 4
 },
 "nbformat": 4,
 "nbformat_minor": 2
}
